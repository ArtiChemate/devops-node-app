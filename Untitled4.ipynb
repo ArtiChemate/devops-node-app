{
  "nbformat": 4,
  "nbformat_minor": 0,
  "metadata": {
    "colab": {
      "provenance": [],
      "authorship_tag": "ABX9TyNaRqc7HuD700Es1ny/UsUG",
      "include_colab_link": true
    },
    "kernelspec": {
      "name": "python3",
      "display_name": "Python 3"
    },
    "language_info": {
      "name": "python"
    }
  },
  "cells": [
    {
      "cell_type": "markdown",
      "metadata": {
        "id": "view-in-github",
        "colab_type": "text"
      },
      "source": [
        "<a href=\"https://colab.research.google.com/github/ArtiChemate/devops-node-app/blob/main/Untitled4.ipynb\" target=\"_parent\"><img src=\"https://colab.research.google.com/assets/colab-badge.svg\" alt=\"Open In Colab\"/></a>"
      ]
    },
    {
      "cell_type": "code",
      "execution_count": null,
      "metadata": {
        "id": "XawH2zNCPjhU"
      },
      "outputs": [],
      "source": []
    },
    {
      "cell_type": "code",
      "source": [
        "import pandas as pd\n",
        "import random\n",
        "import openai\n",
        "\n",
        "# Step 1: Load the dataset\n",
        "data = pd.read_csv('/content/Highest grossing Indian movies.csv')\n",
        "\n",
        "# Display the first few rows to understand the structure\n",
        "print(\"Dataset Loaded:\")\n",
        "print(data.head())"
      ],
      "metadata": {
        "colab": {
          "base_uri": "https://localhost:8080/"
        },
        "id": "hF3AgKokeEGN",
        "outputId": "9bcc1b2e-7dc1-4733-92c5-3f1a596e3f18"
      },
      "execution_count": null,
      "outputs": [
        {
          "output_type": "stream",
          "name": "stdout",
          "text": [
            "Dataset Loaded:\n",
            "                          Film  Year         Director  \\\n",
            "0                       Dangal  2016    Nitesh Tiwari   \n",
            "1  Baahubali 2: The Conclusion  2017  S. S. Rajamouli   \n",
            "2                        RRR *  2022  S. S. Rajamouli   \n",
            "3             K.G.F: Chapter 2  2022   Prashanth Neel   \n",
            "4                      Pathaan  2023  Siddharth Anand   \n",
            "\n",
            "                                           Studio(s) Budget (est.)  \\\n",
            "0  Aamir Khan Productions\\nUTV Motion Pictures\\nW...     ₹70 crore   \n",
            "1                                   Arka Media Works    ₹250 crore   \n",
            "2                                 DVV Entertainments    ₹550 crore   \n",
            "3                                      Hombale Films    ₹100 crore   \n",
            "4                                     Yash Raj Films    ₹250 crore   \n",
            "\n",
            "  World wide gross (INR)  World wide gross (USD) Gross in India (INR crore)  \\\n",
            "0           ₹2,024 crore                  317.00                     538.03   \n",
            "1        ₹1,810.60 crore                  217.27                     1416.9   \n",
            "2           ₹1,316 crore                  157.92                        944   \n",
            "3                 ₹1,225                  147.00                      1,008   \n",
            "4         ₹1,050.3 crore                  130.00                     654.28   \n",
            "\n",
            "  Primary Language  \n",
            "0            Hindi  \n",
            "1    Telugu\\nTamil  \n",
            "2           Telugu  \n",
            "3          Kannada  \n",
            "4            Hindi  \n"
          ]
        }
      ]
    },
    {
      "cell_type": "code",
      "source": [],
      "metadata": {
        "id": "mZ4beEohP0s-"
      },
      "execution_count": null,
      "outputs": []
    },
    {
      "cell_type": "code",
      "source": [
        "# Step 2: Data Processing (cleaning and extracting relevant features)\n",
        "# Assuming the dataset has columns like: 'Movie Title', 'Gross Earnings', 'Year', 'Director', 'Actors', 'Genre'\n",
        "\n",
        "# Clean the data by removing rows with missing values in important columns\n",
        "print(data.head)  # Print the first row of the dataset\n",
        "data.dropna(subset=['Film', 'World wide gross (INR)', 'Year', 'Director'], inplace=True)\n"
      ],
      "metadata": {
        "colab": {
          "base_uri": "https://localhost:8080/"
        },
        "id": "auwOpTi9eUO3",
        "outputId": "3ecbff46-7596-4a8c-f5d7-3ae5a5cc2e55"
      },
      "execution_count": null,
      "outputs": [
        {
          "output_type": "stream",
          "name": "stdout",
          "text": [
            "<bound method NDFrame.head of                             Film  Year                 Director  \\\n",
            "0                         Dangal  2016            Nitesh Tiwari   \n",
            "1    Baahubali 2: The Conclusion  2017          S. S. Rajamouli   \n",
            "2                          RRR *  2022          S. S. Rajamouli   \n",
            "3               K.G.F: Chapter 2  2022           Prashanth Neel   \n",
            "4                        Pathaan  2023          Siddharth Anand   \n",
            "..                           ...   ...                      ...   \n",
            "100                       Race 2  2013             Abbas–Mustan   \n",
            "101                         Bala  2019             Amar Kaushik   \n",
            "102           Bhaag Milkha Bhaag  2013  Rakeysh Omprakash Mehra   \n",
            "103                   Ek Villain  2014               Mohit Suri   \n",
            "104                    Golmaal 3  2010             Rohit Shetty   \n",
            "\n",
            "                                             Studio(s) Budget (est.)  \\\n",
            "0    Aamir Khan Productions\\nUTV Motion Pictures\\nW...     ₹70 crore   \n",
            "1                                     Arka Media Works    ₹250 crore   \n",
            "2                                   DVV Entertainments    ₹550 crore   \n",
            "3                                        Hombale Films    ₹100 crore   \n",
            "4                                       Yash Raj Films    ₹250 crore   \n",
            "..                                                 ...           ...   \n",
            "100                                UTV Motion Pictures           NaN   \n",
            "101                                           AA films           NaN   \n",
            "102                          Viacom 18 Motion Pictures     ₹41 crore   \n",
            "103                                           AA films     ₹39 crore   \n",
            "104                                 Eros international     ₹40 crore   \n",
            "\n",
            "    World wide gross (INR)  World wide gross (USD) Gross in India (INR crore)  \\\n",
            "0             ₹2,024 crore                  317.00                     538.03   \n",
            "1          ₹1,810.60 crore                  217.27                     1416.9   \n",
            "2             ₹1,316 crore                  157.92                        944   \n",
            "3                   ₹1,225                  147.00                      1,008   \n",
            "4           ₹1,050.3 crore                  130.00                     654.28   \n",
            "..                     ...                     ...                        ...   \n",
            "100                ₹173.36                   20.80                     139.51   \n",
            "101                ₹171.49                   20.58                     139.06   \n",
            "102                ₹169.96                   20.40                     151.29   \n",
            "103                ₹169.62                   20.35                     146.69   \n",
            "104                ₹169.09                   20.29                     147.69   \n",
            "\n",
            "    Primary Language  \n",
            "0              Hindi  \n",
            "1      Telugu\\nTamil  \n",
            "2             Telugu  \n",
            "3            Kannada  \n",
            "4              Hindi  \n",
            "..               ...  \n",
            "100            Hindi  \n",
            "101            Hindi  \n",
            "102            Hindi  \n",
            "103            Hindi  \n",
            "104            Hindi  \n",
            "\n",
            "[105 rows x 9 columns]>\n"
          ]
        }
      ]
    },
    {
      "cell_type": "code",
      "source": [],
      "metadata": {
        "id": "-_P8VjlIP278"
      },
      "execution_count": null,
      "outputs": []
    },
    {
      "cell_type": "code",
      "source": [
        "\n",
        "# Step 3: Generate Prompt Functions\n",
        "def create_basic_prompt(movie):\n",
        "    \"\"\"\n",
        "    Generates a basic prompt to describe a movie from the dataset.\n",
        "    \"\"\"\n",
        "    prompt = (\n",
        "        f\"Tell me about the movie '{movie['Film']}', which grossed {movie['World wide gross (INR)']} worldwide. \"\n",
        "        f\"It was directed by {movie['Director']} and starred {movie['Budget (est.)']}. The movie was released in {movie['Year']}, \"\n",
        "        f\"and it belongs to the {movie['Studio(s)']} genre. Can you provide a brief summary or analysis of the movie?\"\n",
        "    )\n",
        "    return prompt\n",
        "\n",
        "def compare_movies(movie1, movie2):\n",
        "    \"\"\"\n",
        "    Generates a prompt comparing two movies based on their earnings and other details.\n",
        "    \"\"\"\n",
        "    prompt = (\n",
        "        f\"Compare the movies '{movie1['Film']}' and '{movie2['Film']}'. \"\n",
        "        f\"Which movie performed better at the box office? Discuss factors like the genre, director, and cast that may have contributed to their success.\"\n",
        "    )\n",
        "    return prompt\n",
        "\n",
        "def top_movies_by_earnings(data, top_n=5):\n",
        "    \"\"\"\n",
        "    Returns the top N movies based on their gross earnings.\n",
        "    \"\"\"\n",
        "    # Convert 'World wide gross (INR)' column to numeric, handling errors\n",
        "    data['World wide gross (INR)'] = pd.to_numeric(data['World wide gross (INR)'], errors='coerce')\n",
        "\n",
        "    top_movies = data.nlargest(top_n, 'World wide gross (INR)')\n",
        "    return top_movies\n",
        "\n",
        "# Step 4: Generate and Display Prompts for Random Movies\n",
        "sample_movies = data.sample(n=5)  # Select 5 random movies\n",
        "\n",
        "# Generate and display basic prompts for these movies\n",
        "print(\"\\nGenerated Prompts:\")\n",
        "for index, movie in sample_movies.iterrows():\n",
        "    prompt = create_basic_prompt(movie)\n",
        "    print(f\"\\nPrompt for Movie '{movie['Film']}':\")\n",
        "    print(prompt)\n"
      ],
      "metadata": {
        "colab": {
          "base_uri": "https://localhost:8080/"
        },
        "id": "xPQ81yNyjswu",
        "outputId": "788862a4-cb33-4fc7-b72a-4a8b583b9b94"
      },
      "execution_count": null,
      "outputs": [
        {
          "output_type": "stream",
          "name": "stdout",
          "text": [
            "\n",
            "Generated Prompts:\n",
            "\n",
            "Prompt for Movie 'Rustom':\n",
            "Tell me about the movie 'Rustom', which grossed ₹218.12 worldwide. It was directed by Tinu Suresh Desai and starred nan. The movie was released in 2016, and it belongs to the Cape of good films genre. Can you provide a brief summary or analysis of the movie?\n",
            "\n",
            "Prompt for Movie 'Stree':\n",
            "Tell me about the movie 'Stree', which grossed ₹180.76 worldwide. It was directed by Amar Kaushik and starred nan. The movie was released in 2018, and it belongs to the AA films genre. Can you provide a brief summary or analysis of the movie?\n",
            "\n",
            "Prompt for Movie 'Dangal':\n",
            "Tell me about the movie 'Dangal', which grossed ₹2,024 crore worldwide. It was directed by Nitesh Tiwari and starred ₹70 crore. The movie was released in 2016, and it belongs to the Aamir Khan Productions\n",
            "UTV Motion Pictures\n",
            "Walt Disney Studios India genre. Can you provide a brief summary or analysis of the movie?\n",
            "\n",
            "Prompt for Movie 'Good Newwz':\n",
            "Tell me about the movie 'Good Newwz', which grossed ₹318.57 worldwide. It was directed by Raj Mehta and starred ₹70 crore. The movie was released in 2019, and it belongs to the Zee Studios\n",
            "Dharma Productions genre. Can you provide a brief summary or analysis of the movie?\n",
            "\n",
            "Prompt for Movie 'Housefull 4':\n",
            "Tell me about the movie 'Housefull 4', which grossed ₹280.27 worldwide. It was directed by farhad samji and starred nan. The movie was released in 2019, and it belongs to the Nadiadwala Grandson Entertainment, Fox Star Studios genre. Can you provide a brief summary or analysis of the movie?\n"
          ]
        }
      ]
    },
    {
      "cell_type": "code",
      "source": [],
      "metadata": {
        "id": "Vo6s5cQaQASF"
      },
      "execution_count": null,
      "outputs": []
    },
    {
      "cell_type": "code",
      "source": [
        "# Step 5: Generate a Comparison Prompt for Two Random Movies\n",
        "movie1, movie2 = data.sample(2).iloc[0], data.sample(2).iloc[1]\n",
        "comparison_prompt = compare_movies(movie1, movie2)\n",
        "print(\"\\nComparison Prompt:\")\n",
        "print(comparison_prompt)"
      ],
      "metadata": {
        "colab": {
          "base_uri": "https://localhost:8080/"
        },
        "id": "3LLePn5soK1X",
        "outputId": "2021d186-3030-4086-832a-bdf9dec8efe9"
      },
      "execution_count": null,
      "outputs": [
        {
          "output_type": "stream",
          "name": "stdout",
          "text": [
            "\n",
            "Comparison Prompt:\n",
            "Compare the movies 'Badhaai Ho' and '2 States'. Which movie performed better at the box office? Discuss factors like the genre, director, and cast that may have contributed to their success.\n"
          ]
        }
      ]
    },
    {
      "cell_type": "code",
      "source": [],
      "metadata": {
        "id": "yoA_aVuwQCfN"
      },
      "execution_count": null,
      "outputs": []
    },
    {
      "cell_type": "code",
      "source": [
        "# Step 6: Top N Movies by Earnings (optional)\n",
        "top_n = 5  # Get top 5 highest-grossing movies\n",
        "top_movies = top_movies_by_earnings(data, top_n=top_n)\n",
        "print(f\"\\nTop {top_n} Highest Grossing Movies:\")\n",
        "print(top_movies[['Film', 'World wide gross (INR)', 'Year']])\n"
      ],
      "metadata": {
        "colab": {
          "base_uri": "https://localhost:8080/"
        },
        "id": "1IRG8FoGtsf1",
        "outputId": "e566c59f-33c5-439f-9d0c-4b3749463bbe"
      },
      "execution_count": null,
      "outputs": [
        {
          "output_type": "stream",
          "name": "stdout",
          "text": [
            "\n",
            "Top 5 Highest Grossing Movies:\n",
            "                          Film  World wide gross (INR)  Year\n",
            "0                       Dangal                     NaN  2016\n",
            "1  Baahubali 2: The Conclusion                     NaN  2017\n",
            "2                        RRR *                     NaN  2022\n",
            "3             K.G.F: Chapter 2                     NaN  2022\n",
            "4                      Pathaan                     NaN  2023\n"
          ]
        }
      ]
    },
    {
      "cell_type": "code",
      "source": [],
      "metadata": {
        "id": "2vJErUp9QIX8"
      },
      "execution_count": null,
      "outputs": []
    },
    {
      "cell_type": "code",
      "source": [
        "import pandas as pd\n",
        "import random\n",
        "import openai\n",
        "\n",
        "# Load the dataset (CSV)\n",
        "data = pd.read_csv('/content/Highest grossing Indian movies.csv')\n",
        "\n",
        "# Display the first few rows to understand the structure of the dataset\n",
        "print(\"Dataset Loaded:\")\n",
        "print(data.head())"
      ],
      "metadata": {
        "colab": {
          "base_uri": "https://localhost:8080/"
        },
        "id": "5sF1FZ9nx8dT",
        "outputId": "04cd4347-e5de-4f34-8bce-d30022607b3a"
      },
      "execution_count": null,
      "outputs": [
        {
          "output_type": "stream",
          "name": "stdout",
          "text": [
            "Dataset Loaded:\n",
            "                          Film  Year         Director  \\\n",
            "0                       Dangal  2016    Nitesh Tiwari   \n",
            "1  Baahubali 2: The Conclusion  2017  S. S. Rajamouli   \n",
            "2                        RRR *  2022  S. S. Rajamouli   \n",
            "3             K.G.F: Chapter 2  2022   Prashanth Neel   \n",
            "4                      Pathaan  2023  Siddharth Anand   \n",
            "\n",
            "                                           Studio(s) Budget (est.)  \\\n",
            "0  Aamir Khan Productions\\nUTV Motion Pictures\\nW...     ₹70 crore   \n",
            "1                                   Arka Media Works    ₹250 crore   \n",
            "2                                 DVV Entertainments    ₹550 crore   \n",
            "3                                      Hombale Films    ₹100 crore   \n",
            "4                                     Yash Raj Films    ₹250 crore   \n",
            "\n",
            "  World wide gross (INR)  World wide gross (USD) Gross in India (INR crore)  \\\n",
            "0           ₹2,024 crore                  317.00                     538.03   \n",
            "1        ₹1,810.60 crore                  217.27                     1416.9   \n",
            "2           ₹1,316 crore                  157.92                        944   \n",
            "3                 ₹1,225                  147.00                      1,008   \n",
            "4         ₹1,050.3 crore                  130.00                     654.28   \n",
            "\n",
            "  Primary Language  \n",
            "0            Hindi  \n",
            "1    Telugu\\nTamil  \n",
            "2           Telugu  \n",
            "3          Kannada  \n",
            "4            Hindi  \n"
          ]
        }
      ]
    },
    {
      "cell_type": "code",
      "source": [],
      "metadata": {
        "id": "CUYbgmc-QSq9"
      },
      "execution_count": null,
      "outputs": []
    },
    {
      "cell_type": "code",
      "source": [
        "# Step 1: Chunking the dataset by splitting it into manageable parts (e.g., chunks of 10 rows each)\n",
        "def chunk_data(data, chunk_size=10):\n",
        "    \"\"\"\n",
        "    Split the dataset into smaller chunks of size 'chunk_size'.\n",
        "    \"\"\"\n",
        "    chunks = [data.iloc[i:i + chunk_size] for i in range(0, len(data), chunk_size)]\n",
        "    return chunks"
      ],
      "metadata": {
        "id": "GI6qLAdgywhE"
      },
      "execution_count": null,
      "outputs": []
    },
    {
      "cell_type": "code",
      "source": [],
      "metadata": {
        "id": "T0SWg6P3QUhk"
      },
      "execution_count": null,
      "outputs": []
    },
    {
      "cell_type": "code",
      "source": [
        "# Step 2: Generate Prompts from Each Chunk\n",
        "def create_prompt_for_chunk(chunk):\n",
        "    \"\"\"\n",
        "    Generate prompts based on each movie in the chunk.\n",
        "    \"\"\"\n",
        "    prompts = []\n",
        "    for _, movie in chunk.iterrows():\n",
        "        prompt = (\n",
        "            f\"Tell me about the movie '{movie['Film']}', released in {movie['Year']}. \"\n",
        "            f\"The movie grossed {movie['World wide gross (INR)']} worldwide and was directed by {movie['Director']}. \"\n",
        "            f\"Actors include {movie['Budget (est.)']}, and the genre of the movie is {movie['Studio(s)']}. \"\n",
        "            f\"Can you summarize the movie's plot and its impact on the film industry?\"\n",
        "        )\n",
        "        prompts.append(prompt)\n",
        "    return prompts"
      ],
      "metadata": {
        "id": "IzrCamUKyjqk"
      },
      "execution_count": null,
      "outputs": []
    },
    {
      "cell_type": "code",
      "source": [],
      "metadata": {
        "id": "cLmdIHp9QbKM"
      },
      "execution_count": null,
      "outputs": []
    },
    {
      "cell_type": "code",
      "source": [
        "# Step 4: Chunk the Data and Generate Prompts for Each Chunk\n",
        "\n",
        "# Let's chunk the dataset into smaller chunks of 10 rows each\n",
        "chunks = chunk_data(data, chunk_size=10)\n"
      ],
      "metadata": {
        "id": "_iIbm_Uby6VG"
      },
      "execution_count": null,
      "outputs": []
    },
    {
      "cell_type": "code",
      "source": [
        "!openai migrate"
      ],
      "metadata": {
        "colab": {
          "base_uri": "https://localhost:8080/"
        },
        "id": "98S-aq-YQkh9",
        "outputId": "d1485ad6-b698-4aa6-d549-b949c229d26f"
      },
      "execution_count": null,
      "outputs": [
        {
          "output_type": "stream",
          "name": "stdout",
          "text": [
            "Downloading Grit CLI from https://github.com/getgrit/gritql/releases/latest/download/marzano-x86_64-unknown-linux-gnu.tar.gz\n",
            "\u001b[91mError:\u001b[0m Failed to download Grit CLI from https://github.com/getgrit/gritql/releases/latest/download/marzano-x86_64-unknown-linux-gnu.tar.gz\n"
          ]
        }
      ]
    },
    {
      "cell_type": "code",
      "source": [
        "!pip install --upgrade openai"
      ],
      "metadata": {
        "colab": {
          "base_uri": "https://localhost:8080/"
        },
        "id": "55VKJY9MTCU9",
        "outputId": "3a1b0b16-17a6-4bfb-da38-a2ab20cc665a"
      },
      "execution_count": null,
      "outputs": [
        {
          "output_type": "stream",
          "name": "stdout",
          "text": [
            "Requirement already satisfied: openai in /usr/local/lib/python3.10/dist-packages (1.54.4)\n",
            "Collecting openai\n",
            "  Downloading openai-1.55.3-py3-none-any.whl.metadata (24 kB)\n",
            "Requirement already satisfied: anyio<5,>=3.5.0 in /usr/local/lib/python3.10/dist-packages (from openai) (3.7.1)\n",
            "Requirement already satisfied: distro<2,>=1.7.0 in /usr/local/lib/python3.10/dist-packages (from openai) (1.9.0)\n",
            "Requirement already satisfied: httpx<1,>=0.23.0 in /usr/local/lib/python3.10/dist-packages (from openai) (0.27.2)\n",
            "Requirement already satisfied: jiter<1,>=0.4.0 in /usr/local/lib/python3.10/dist-packages (from openai) (0.7.1)\n",
            "Requirement already satisfied: pydantic<3,>=1.9.0 in /usr/local/lib/python3.10/dist-packages (from openai) (2.9.2)\n",
            "Requirement already satisfied: sniffio in /usr/local/lib/python3.10/dist-packages (from openai) (1.3.1)\n",
            "Requirement already satisfied: tqdm>4 in /usr/local/lib/python3.10/dist-packages (from openai) (4.66.6)\n",
            "Requirement already satisfied: typing-extensions<5,>=4.11 in /usr/local/lib/python3.10/dist-packages (from openai) (4.12.2)\n",
            "Requirement already satisfied: idna>=2.8 in /usr/local/lib/python3.10/dist-packages (from anyio<5,>=3.5.0->openai) (3.10)\n",
            "Requirement already satisfied: exceptiongroup in /usr/local/lib/python3.10/dist-packages (from anyio<5,>=3.5.0->openai) (1.2.2)\n",
            "Requirement already satisfied: certifi in /usr/local/lib/python3.10/dist-packages (from httpx<1,>=0.23.0->openai) (2024.8.30)\n",
            "Requirement already satisfied: httpcore==1.* in /usr/local/lib/python3.10/dist-packages (from httpx<1,>=0.23.0->openai) (1.0.7)\n",
            "Requirement already satisfied: h11<0.15,>=0.13 in /usr/local/lib/python3.10/dist-packages (from httpcore==1.*->httpx<1,>=0.23.0->openai) (0.14.0)\n",
            "Requirement already satisfied: annotated-types>=0.6.0 in /usr/local/lib/python3.10/dist-packages (from pydantic<3,>=1.9.0->openai) (0.7.0)\n",
            "Requirement already satisfied: pydantic-core==2.23.4 in /usr/local/lib/python3.10/dist-packages (from pydantic<3,>=1.9.0->openai) (2.23.4)\n",
            "Downloading openai-1.55.3-py3-none-any.whl (389 kB)\n",
            "\u001b[2K   \u001b[90m━━━━━━━━━━━━━━━━━━━━━━━━━━━━━━━━━━━━━━━━\u001b[0m \u001b[32m389.6/389.6 kB\u001b[0m \u001b[31m10.4 MB/s\u001b[0m eta \u001b[36m0:00:00\u001b[0m\n",
            "\u001b[?25hInstalling collected packages: openai\n",
            "  Attempting uninstall: openai\n",
            "    Found existing installation: openai 1.54.4\n",
            "    Uninstalling openai-1.54.4:\n",
            "      Successfully uninstalled openai-1.54.4\n",
            "Successfully installed openai-1.55.3\n"
          ]
        }
      ]
    },
    {
      "cell_type": "code",
      "source": [
        "Tell me about the movie 'Movie A', released in 2020. The movie grossed 1000 million worldwide and was directed by Director A. Actors include Actor 1, Actor 2, and the genre of the movie is Action. Can you summarize the movie's plot and its impact on the film industry?\n"
      ],
      "metadata": {
        "colab": {
          "base_uri": "https://localhost:8080/"
        },
        "id": "QHe1QRlxz6iV",
        "outputId": "6b12ad8b-38b0-4805-d27a-b234d147665d"
      },
      "execution_count": null,
      "outputs": [
        {
          "output_type": "stream",
          "name": "stdout",
          "text": [
            "Object `industry` not found.\n"
          ]
        }
      ]
    },
    {
      "cell_type": "code",
      "source": [
        "import openai\n",
        "\n",
        "def generate_output_from_prompt(prompt):\n",
        "    \"\"\"Generates output from a given prompt using the OpenAI API.\"\"\"\n",
        "    # Updated to use openai.Completion.create for compatibility\n",
        "    response = openai.Completion.create(\n",
        "        engine=\"text-davinci-003\",  # Or another suitable engine\n",
        "        prompt=prompt,\n",
        "        max_tokens=150,  # Adjust as needed\n",
        "    )\n",
        "    # Accessing the text from the response\n",
        "    return response.choices[0].text.strip()"
      ],
      "metadata": {
        "id": "ERDl1bI9UuJU"
      },
      "execution_count": 1,
      "outputs": []
    }
  ]
}